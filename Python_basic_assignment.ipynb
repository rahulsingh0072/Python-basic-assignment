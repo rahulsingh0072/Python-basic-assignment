{
  "nbformat": 4,
  "nbformat_minor": 0,
  "metadata": {
    "colab": {
      "provenance": []
    },
    "kernelspec": {
      "name": "python3",
      "display_name": "Python 3"
    },
    "language_info": {
      "name": "python"
    }
  },
  "cells": [
    {
      "cell_type": "code",
      "execution_count": null,
      "metadata": {
        "id": "dbhdhAB72mDK"
      },
      "outputs": [],
      "source": []
    },
    {
      "cell_type": "markdown",
      "source": [
        "# 1. Explain the key features of Python that make it a popular choice for programming.\n",
        "\n",
        "Ans-  There are numerous Python features which makes it so special and\n",
        "      different from any other programming language.\n",
        "     \n",
        "     (a) Easy to Code (b) Easy to Read (c) Free and Open Source (d) Robust\n",
        "     Standard  Library (e) Portable (f)Extensible (g) Support for GUI\n",
        "     (h) Dynamically Typed (i) High-level language.\n",
        "\n",
        "# 2. Describe the role of predefined keywords in Python and provide examples of how they are used in a program.\n",
        "\n",
        "Ans- Keywords are reserved words in Python that have special meanings and\n",
        "     cannot be used as identifiers.\n",
        "  \n",
        "  Example- True, False, class,\n",
        "           import, None, for, while, else, if, return, try, def etc.\n",
        "\n",
        ""
      ],
      "metadata": {
        "id": "cvf9qmvO3Yio"
      }
    },
    {
      "cell_type": "code",
      "source": [
        "print(\"example of True, False, and, or, not keywords\")\n",
        "\n",
        "#  compare two operands using and operator\n",
        "print(True and True)\n",
        "\n",
        "# compare two operands using or operator\n",
        "print(True or False)\n",
        "\n",
        "# use of not operator\n",
        "print(not False)\n",
        "\n"
      ],
      "metadata": {
        "colab": {
          "base_uri": "https://localhost:8080/"
        },
        "id": "MoOlQpfcOh0M",
        "outputId": "0a9cd0f5-870a-4fd9-dc28-0de766c92c6c"
      },
      "execution_count": 2,
      "outputs": [
        {
          "output_type": "stream",
          "name": "stdout",
          "text": [
            "example of True, False, and, or, not keywords\n",
            "True\n",
            "True\n",
            "True\n"
          ]
        }
      ]
    },
    {
      "cell_type": "code",
      "source": [
        "# run for loop\n",
        "for t in range(1, 5):\n",
        "  # print one of t ==1\n",
        "    if t == 1:\n",
        "        print('One')\n",
        "   # print two if t ==2\n",
        "    elif t == 2:\n",
        "        print('Two')\n",
        "    else:\n",
        "        print('else block execute')\n"
      ],
      "metadata": {
        "colab": {
          "base_uri": "https://localhost:8080/"
        },
        "id": "sfcSeFWfOyQm",
        "outputId": "6ae2b894-bebd-4bde-9a74-83dca0321dfb"
      },
      "execution_count": 3,
      "outputs": [
        {
          "output_type": "stream",
          "name": "stdout",
          "text": [
            "One\n",
            "Two\n",
            "else block execute\n",
            "else block execute\n"
          ]
        }
      ]
    },
    {
      "cell_type": "code",
      "source": [
        "def fun(num):\n",
        "    try:\n",
        "        r = 1.0/num\n",
        "    except:\n",
        "        print('Exception raises')\n",
        "        return\n",
        "    return r\n",
        "\n",
        "print(fun(10))\n",
        "print(fun(0))\n"
      ],
      "metadata": {
        "colab": {
          "base_uri": "https://localhost:8080/"
        },
        "id": "M74LhEFlPDMM",
        "outputId": "9b69cbdb-3660-4db0-eeed-e367bfaf6104"
      },
      "execution_count": 4,
      "outputs": [
        {
          "output_type": "stream",
          "name": "stdout",
          "text": [
            "0.1\n",
            "Exception raises\n",
            "None\n"
          ]
        }
      ]
    },
    {
      "cell_type": "markdown",
      "source": [
        "#3.  Compare and contrast mutable and immutable objects in Python with    examples.\n",
        "\n",
        "Ans- (a) Mutable- A mutable object in Python is an object that can be changed after it has been created. This means that any operation that modifies a mutable object will modify the original object itself."
      ],
      "metadata": {
        "id": "nrmXHJo1PQp8"
      }
    },
    {
      "cell_type": "code",
      "source": [
        "my_list = [7, 8, 9]\n",
        "my_list.append(6)\n",
        "print(my_list)\n",
        "\n",
        "my_list.insert(7, 5)\n",
        "print(my_list)\n",
        "\n",
        "print(my_list)\n",
        "print(popped_element)\n"
      ],
      "metadata": {
        "colab": {
          "base_uri": "https://localhost:8080/"
        },
        "id": "kV_V9Uu5UhMh",
        "outputId": "38b6abbc-bf34-4ac9-f858-3c2b79ab4274"
      },
      "execution_count": 8,
      "outputs": [
        {
          "output_type": "stream",
          "name": "stdout",
          "text": [
            "[7, 8, 9, 6]\n",
            "[7, 8, 9, 6, 5]\n",
            "[7, 9, 6, 5]\n",
            "[9, 6, 5]\n",
            "7\n"
          ]
        }
      ]
    },
    {
      "cell_type": "code",
      "source": [
        "#Modify item from a dictionary in Python\n",
        "my_dict = {\"name\": \"Rahul\", \"age\": 23}\n",
        "new_dict = my_dict\n",
        "new_dict[\"age\"] = 37\n",
        "\n",
        "print(my_dict)\n",
        "print(new_dict)\n"
      ],
      "metadata": {
        "colab": {
          "base_uri": "https://localhost:8080/"
        },
        "id": "rEbkvBakU1Jd",
        "outputId": "0e0d9970-67ee-46e7-f13d-d28b52d27c84"
      },
      "execution_count": 6,
      "outputs": [
        {
          "output_type": "stream",
          "name": "stdout",
          "text": [
            "{'name': 'Rahul', 'age': 37}\n",
            "{'name': 'Rahul', 'age': 37}\n"
          ]
        }
      ]
    },
    {
      "cell_type": "markdown",
      "source": [
        "(b) Immutable- Immutable Objects are of in-built datatypes like int, float, bool, string, Unicode, and tuple. In simple words, an immutable object can’t be changed after it is created."
      ],
      "metadata": {
        "id": "1t86n1CKVcor"
      }
    },
    {
      "cell_type": "code",
      "source": [
        "# Python code to test that\n",
        "# tuples are immutable\n",
        "\n",
        "tuple1 = (0, 1, 2, 3)\n",
        "tuple1[0] = 4\n",
        "print(tuple1)\n"
      ],
      "metadata": {
        "colab": {
          "base_uri": "https://localhost:8080/",
          "height": 193
        },
        "id": "dLhd0j8aWCC1",
        "outputId": "d4a1ed68-f3f6-4647-d997-dad25c7a45eb"
      },
      "execution_count": 7,
      "outputs": [
        {
          "output_type": "error",
          "ename": "TypeError",
          "evalue": "'tuple' object does not support item assignment",
          "traceback": [
            "\u001b[0;31m---------------------------------------------------------------------------\u001b[0m",
            "\u001b[0;31mTypeError\u001b[0m                                 Traceback (most recent call last)",
            "\u001b[0;32m<ipython-input-7-fb6adb2ea50b>\u001b[0m in \u001b[0;36m<cell line: 5>\u001b[0;34m()\u001b[0m\n\u001b[1;32m      3\u001b[0m \u001b[0;34m\u001b[0m\u001b[0m\n\u001b[1;32m      4\u001b[0m \u001b[0mtuple1\u001b[0m \u001b[0;34m=\u001b[0m \u001b[0;34m(\u001b[0m\u001b[0;36m0\u001b[0m\u001b[0;34m,\u001b[0m \u001b[0;36m1\u001b[0m\u001b[0;34m,\u001b[0m \u001b[0;36m2\u001b[0m\u001b[0;34m,\u001b[0m \u001b[0;36m3\u001b[0m\u001b[0;34m)\u001b[0m\u001b[0;34m\u001b[0m\u001b[0;34m\u001b[0m\u001b[0m\n\u001b[0;32m----> 5\u001b[0;31m \u001b[0mtuple1\u001b[0m\u001b[0;34m[\u001b[0m\u001b[0;36m0\u001b[0m\u001b[0;34m]\u001b[0m \u001b[0;34m=\u001b[0m \u001b[0;36m4\u001b[0m\u001b[0;34m\u001b[0m\u001b[0;34m\u001b[0m\u001b[0m\n\u001b[0m\u001b[1;32m      6\u001b[0m \u001b[0mprint\u001b[0m\u001b[0;34m(\u001b[0m\u001b[0mtuple1\u001b[0m\u001b[0;34m)\u001b[0m\u001b[0;34m\u001b[0m\u001b[0;34m\u001b[0m\u001b[0m\n",
            "\u001b[0;31mTypeError\u001b[0m: 'tuple' object does not support item assignment"
          ]
        }
      ]
    },
    {
      "cell_type": "markdown",
      "source": [
        "#4. Discuss the different types of operators in Python and provide examples of how they are used.\n",
        "  \n",
        "Ans- (a) Arithmetic Operators (+,-,*,\\, %)\n",
        "    "
      ],
      "metadata": {
        "id": "d1qr_DPBWGPE"
      }
    },
    {
      "cell_type": "code",
      "source": [
        "a = 9\n",
        "b = 4\n",
        "add = a + b\n",
        "\n",
        "sub = a - b\n",
        "\n",
        "mul = a * b\n",
        "\n",
        "mod = a % b\n",
        "\n",
        "p = a ** b\n",
        "print(add)\n",
        "print(sub)\n",
        "print(mul)\n",
        "print(mod)\n",
        "print(p)"
      ],
      "metadata": {
        "colab": {
          "base_uri": "https://localhost:8080/"
        },
        "id": "-CDx_CY9X78T",
        "outputId": "daeff627-c2fb-4ef2-c819-3652abc2ffd6"
      },
      "execution_count": 10,
      "outputs": [
        {
          "output_type": "stream",
          "name": "stdout",
          "text": [
            "13\n",
            "5\n",
            "36\n",
            "1\n",
            "6561\n"
          ]
        }
      ]
    },
    {
      "cell_type": "markdown",
      "source": [
        "(b) Comparison Operators -\n",
        "    \n",
        "\n",
        "*   Greater than: True if the left operand is greater than the rightst item(>).\n",
        "*   Less than: True if the left operand is less than the right(<).\n",
        "\n",
        "\n",
        "*  Equal to: True if both operands are equal(==).\n",
        "*   Not equal to – True if operands are not equal(!=).\n",
        ".\n",
        "\n",
        "*   Greater than or equal to True if the left operand is greater than or equal to the right(>=).\n",
        "*  Less than or equal to True if the left operand is less than or equal to the right(<=).\n",
        "\n",
        "\n",
        "\n",
        "\n"
      ],
      "metadata": {
        "id": "qzakodKNYQRC"
      }
    },
    {
      "cell_type": "code",
      "source": [
        "#Example\n",
        "a = 13\n",
        "b = 33\n",
        "\n",
        "print(a > b)\n",
        "print(a < b)\n",
        "print(a == b)\n",
        "print(a != b)\n",
        "print(a >= b)\n",
        "print(a <= b)"
      ],
      "metadata": {
        "colab": {
          "base_uri": "https://localhost:8080/"
        },
        "id": "FVXK_FszZzIL",
        "outputId": "92bdd193-9e60-4168-eac4-c611f53f34f2"
      },
      "execution_count": 11,
      "outputs": [
        {
          "output_type": "stream",
          "name": "stdout",
          "text": [
            "False\n",
            "True\n",
            "False\n",
            "True\n",
            "False\n",
            "True\n"
          ]
        }
      ]
    },
    {
      "cell_type": "markdown",
      "source": [
        "(c) Logical Operators -\n",
        "    \n",
        "\n",
        "*   Logical AND: True if both the operands are true\n",
        "*   Logical OR: True if either of the operands is true\n",
        "\n",
        "\n",
        "*   Logical NOT: True if the operand is false\n",
        "\n",
        "\n",
        "\n"
      ],
      "metadata": {
        "id": "PHD825IIZ7_y"
      }
    },
    {
      "cell_type": "code",
      "source": [
        "#Example\n",
        "a = True\n",
        "b = False\n",
        "print(a and b)\n",
        "print(a or b)\n",
        "print(not a)"
      ],
      "metadata": {
        "colab": {
          "base_uri": "https://localhost:8080/"
        },
        "id": "QEtbVFEdafK6",
        "outputId": "5605fbde-0313-4dad-fe7f-1be270aa900e"
      },
      "execution_count": 12,
      "outputs": [
        {
          "output_type": "stream",
          "name": "stdout",
          "text": [
            "False\n",
            "True\n",
            "False\n"
          ]
        }
      ]
    },
    {
      "cell_type": "markdown",
      "source": [
        "(d) Bitwise Operators-\n",
        "    \n",
        "\n",
        "*  Bitwise NOT\n",
        "*   Bitwise Shift\n",
        "*  Bitwise AND\n",
        "\n",
        "*  Bitwise XOR\n",
        "*  Bitwise OR\n",
        "\n",
        "\n",
        "\n",
        "\n",
        "\n",
        "\n",
        "\n"
      ],
      "metadata": {
        "id": "h6vsjiPiaspM"
      }
    },
    {
      "cell_type": "code",
      "source": [
        "#Example\n",
        "a = 10\n",
        "b = 4\n",
        "print(a & b)\n",
        "print(a | b)\n",
        "print(~a)\n",
        "print(a ^ b)\n",
        "print(a >> 2)\n",
        "print(a << 2)"
      ],
      "metadata": {
        "colab": {
          "base_uri": "https://localhost:8080/"
        },
        "id": "a6oT3Xi9bWSf",
        "outputId": "7808e817-5c31-4191-ca15-03ab76fd1665"
      },
      "execution_count": 13,
      "outputs": [
        {
          "output_type": "stream",
          "name": "stdout",
          "text": [
            "0\n",
            "14\n",
            "-11\n",
            "14\n",
            "2\n",
            "40\n"
          ]
        }
      ]
    },
    {
      "cell_type": "markdown",
      "source": [
        "(e) Assignment Operators-\n",
        "    \n",
        "\n",
        "*  Assign the value of the right side of the expression to the left side operand (=).\n",
        "\n",
        "*   Add AND: Add right-side operand with left-side operand and then assign to left operand(+=).\n",
        "\n",
        "*   Subtract AND: Subtract right operand from left operand and then assign to left operand(-=).\n",
        "*   Multiply AND: Multiply right operand with left operand and then assign to left operand(*=).\n",
        "\n",
        "\n",
        "*  Divide AND: Divide left operand with right operand and then assign to left operand(/=).\n",
        "\n",
        "\n",
        "*  Modulus AND: Takes modulus using left and right operands and assign the result to left operand(%=).\n",
        "\n",
        "*  Divide(floor) AND: Divide left operand with right operand and then assign the value(floor) to left operand(//=).\n",
        "*  Exponent AND: Calculate exponent(raise power) value using operands and assign value to left operand\t(**=).\n",
        "\n",
        "\n"
      ],
      "metadata": {
        "id": "pPlXNHLtbsC8"
      }
    },
    {
      "cell_type": "code",
      "source": [
        "#Example\n",
        "a = 10\n",
        "b = a\n",
        "print(b)\n",
        "b += a\n",
        "print(b)\n",
        "b -= a\n",
        "print(b)\n",
        "b *= a\n",
        "print(b)\n",
        "b <<= a\n",
        "print(b)"
      ],
      "metadata": {
        "colab": {
          "base_uri": "https://localhost:8080/"
        },
        "id": "Rrd5d0WtdDdv",
        "outputId": "386b1c6a-309a-45b2-8524-4f51c9629daf"
      },
      "execution_count": 14,
      "outputs": [
        {
          "output_type": "stream",
          "name": "stdout",
          "text": [
            "10\n",
            "20\n",
            "10\n",
            "100\n",
            "102400\n"
          ]
        }
      ]
    },
    {
      "cell_type": "markdown",
      "source": [
        "#5.  Explain the concept of type casting in Python with examples.\n",
        "\n",
        " Ans- There are two types of casting in python.\n",
        "    \n",
        "  (a) Implicit-  Implicit conversion is where the interpreter helps us out and automatically converts one data type into another, without having to explicitly tell it to do so.\n"
      ],
      "metadata": {
        "id": "pnafHPOmdXdq"
      }
    },
    {
      "cell_type": "code",
      "source": [
        "#Example\n",
        "\n",
        "# implicit type Casting\n",
        "\n",
        "\n",
        "# a to int\n",
        "a = 7\n",
        "print(type(a))\n",
        "\n",
        "\n",
        "# b to float\n",
        "b = 3.0\n",
        "print(type(b))\n",
        "\n",
        "\n",
        "# c to float as it is a float addition\n",
        "c = a + b\n",
        "print(c)\n",
        "print(type(c))\n",
        "\n",
        "\n",
        "# d to float as it is a float multiplication\n",
        "d = a * b\n",
        "print(d)\n",
        "print(type(d))\n"
      ],
      "metadata": {
        "colab": {
          "base_uri": "https://localhost:8080/"
        },
        "id": "J5FMXeUn2Tdo",
        "outputId": "a6d6a73a-a5fe-414f-cfd5-3647c819217e"
      },
      "execution_count": 1,
      "outputs": [
        {
          "output_type": "stream",
          "name": "stdout",
          "text": [
            "<class 'int'>\n",
            "<class 'float'>\n",
            "10.0\n",
            "<class 'float'>\n",
            "21.0\n",
            "<class 'float'>\n"
          ]
        }
      ]
    },
    {
      "cell_type": "markdown",
      "source": [
        "(b) Explicit - In this method, Python needs user involvement to convert the variable data type into the required data type."
      ],
      "metadata": {
        "id": "lcmcCmyJ2-Q2"
      }
    },
    {
      "cell_type": "code",
      "source": [
        "#Example\n",
        "# int variable\n",
        "a = 5\n",
        "\n",
        "# typecast to float\n",
        "n = float(a)\n",
        "\n",
        "print(n)\n",
        "print(type(n))\n"
      ],
      "metadata": {
        "colab": {
          "base_uri": "https://localhost:8080/"
        },
        "id": "-Ut1aN2O3aKA",
        "outputId": "ecfe4690-147d-40ab-a836-eaf89bc83c72"
      },
      "execution_count": 2,
      "outputs": [
        {
          "output_type": "stream",
          "name": "stdout",
          "text": [
            "5.0\n",
            "<class 'float'>\n"
          ]
        }
      ]
    },
    {
      "cell_type": "markdown",
      "source": [
        "#6.  How do conditional statements work in Python? Illustrate with example.\n",
        "\n",
        " Ans- Conditionals in Python are used to execute code based on the evaluation of one or more conditions.\n",
        "\n",
        " *  If Conditional Statement- if condition statements to execute if condition is true .\n",
        "\n",
        "\n",
        "\n",
        "\n",
        "\n",
        "\n"
      ],
      "metadata": {
        "id": "hMBg97tM3qvo"
      }
    },
    {
      "cell_type": "code",
      "source": [
        "#Example\n",
        "\n",
        "if 10 > 5:\n",
        "    print(\"10 greater than 5\")\n",
        "\n",
        "print(\"Program ended\")\n"
      ],
      "metadata": {
        "colab": {
          "base_uri": "https://localhost:8080/"
        },
        "id": "uTF8UmGa5Z0B",
        "outputId": "26528eb1-459a-4b5b-fa04-12b91b8c615c"
      },
      "execution_count": 3,
      "outputs": [
        {
          "output_type": "stream",
          "name": "stdout",
          "text": [
            "10 greater than 5\n",
            "Program ended\n"
          ]
        }
      ]
    },
    {
      "cell_type": "markdown",
      "source": [
        "\n",
        "\n",
        "*  If else Conditional Statements- if (condition): Executes this block if condition is true\n",
        "\n",
        "  else: Executes this block if condition is false .\n",
        "\n",
        "\n"
      ],
      "metadata": {
        "id": "xEPaKhvg5tln"
      }
    },
    {
      "cell_type": "code",
      "source": [
        "#Example\n",
        "# if..else statement example\n",
        "x = 3\n",
        "if x == 4:\n",
        "    print(\"Yes\")\n",
        "else:\n",
        "    print(\"No\")\n"
      ],
      "metadata": {
        "colab": {
          "base_uri": "https://localhost:8080/"
        },
        "id": "fBYBUHI56Xj-",
        "outputId": "c269e890-e5c8-42cb-e36b-1793b27659a8"
      },
      "execution_count": 4,
      "outputs": [
        {
          "output_type": "stream",
          "name": "stdout",
          "text": [
            "No\n"
          ]
        }
      ]
    },
    {
      "cell_type": "markdown",
      "source": [
        "#7.  Describe the different types of loops in Python and their use cases with examples.\n",
        "\n",
        "Ans- In Python, loops are employed to repeat a sequence of actions or code until a specific condition is fulfilled.\n",
        "    Python offers two primary types of loops:\n",
        "\n",
        "\n",
        "*   for loops- “for” loops are used for iterating over a sequence of elements.\n",
        "  \n",
        "  Example- This Python code iterates through a list called fruits, containing “apple”, “orange” and “banana” It prints each fruit name on a separate line, displaying them in the order they appear in the list.\n",
        "\n",
        "\n",
        "\n",
        "\n",
        "\n"
      ],
      "metadata": {
        "id": "67rLgOAc6nuh"
      }
    },
    {
      "cell_type": "code",
      "source": [
        "fruits = [\"apple\", \"orange\", \"banana\"]\n",
        "\n",
        "for fruit in fruits:\n",
        "\n",
        "    print(fruit)\n"
      ],
      "metadata": {
        "colab": {
          "base_uri": "https://localhost:8080/"
        },
        "id": "c_h8Q8Nw8giy",
        "outputId": "b09ae091-86fc-476f-970d-b01539761c28"
      },
      "execution_count": 5,
      "outputs": [
        {
          "output_type": "stream",
          "name": "stdout",
          "text": [
            "apple\n",
            "orange\n",
            "banana\n"
          ]
        }
      ]
    },
    {
      "cell_type": "markdown",
      "source": [
        "\n",
        "\n",
        "*  while loops -  “while” loops are used for executing code until a specified condition becomes False.\n"
      ],
      "metadata": {
        "id": "Kr0FYd909Ccn"
      }
    },
    {
      "cell_type": "code",
      "source": [
        "#Example\n",
        "count = 0\n",
        "while (count < 3):\n",
        "    count = count + 1\n",
        "    print(\"data analyst\")\n",
        "else:\n",
        "    print(\"In Else Block\")\n"
      ],
      "metadata": {
        "colab": {
          "base_uri": "https://localhost:8080/"
        },
        "id": "O-5g0z8t9i4X",
        "outputId": "89d33835-55a8-49de-df00-423639c8156a"
      },
      "execution_count": 6,
      "outputs": [
        {
          "output_type": "stream",
          "name": "stdout",
          "text": [
            "data analyst\n",
            "data analyst\n",
            "data analyst\n",
            "In Else Block\n"
          ]
        }
      ]
    }
  ]
}